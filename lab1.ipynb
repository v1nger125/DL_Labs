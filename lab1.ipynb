{
 "cells": [
  {
   "cell_type": "markdown",
   "metadata": {},
   "source": [
    "# Вариант 4\n",
    "\n",
    "### MNIST\n",
    "### KNN и Softmax"
   ]
  },
  {
   "cell_type": "code",
   "execution_count": 1,
   "metadata": {},
   "outputs": [],
   "source": [
    "import numpy as np\n",
    "from sklearn.datasets import load_digits\n",
    "\n",
    "digits = load_digits()"
   ]
  },
  {
   "cell_type": "code",
   "execution_count": 2,
   "metadata": {},
   "outputs": [
    {
     "data": {
      "text/plain": [
       "{'data': array([[ 0.,  0.,  5., ...,  0.,  0.,  0.],\n",
       "        [ 0.,  0.,  0., ..., 10.,  0.,  0.],\n",
       "        [ 0.,  0.,  0., ..., 16.,  9.,  0.],\n",
       "        ...,\n",
       "        [ 0.,  0.,  1., ...,  6.,  0.,  0.],\n",
       "        [ 0.,  0.,  2., ..., 12.,  0.,  0.],\n",
       "        [ 0.,  0., 10., ..., 12.,  1.,  0.]]),\n",
       " 'target': array([0, 1, 2, ..., 8, 9, 8]),\n",
       " 'frame': None,\n",
       " 'feature_names': ['pixel_0_0',\n",
       "  'pixel_0_1',\n",
       "  'pixel_0_2',\n",
       "  'pixel_0_3',\n",
       "  'pixel_0_4',\n",
       "  'pixel_0_5',\n",
       "  'pixel_0_6',\n",
       "  'pixel_0_7',\n",
       "  'pixel_1_0',\n",
       "  'pixel_1_1',\n",
       "  'pixel_1_2',\n",
       "  'pixel_1_3',\n",
       "  'pixel_1_4',\n",
       "  'pixel_1_5',\n",
       "  'pixel_1_6',\n",
       "  'pixel_1_7',\n",
       "  'pixel_2_0',\n",
       "  'pixel_2_1',\n",
       "  'pixel_2_2',\n",
       "  'pixel_2_3',\n",
       "  'pixel_2_4',\n",
       "  'pixel_2_5',\n",
       "  'pixel_2_6',\n",
       "  'pixel_2_7',\n",
       "  'pixel_3_0',\n",
       "  'pixel_3_1',\n",
       "  'pixel_3_2',\n",
       "  'pixel_3_3',\n",
       "  'pixel_3_4',\n",
       "  'pixel_3_5',\n",
       "  'pixel_3_6',\n",
       "  'pixel_3_7',\n",
       "  'pixel_4_0',\n",
       "  'pixel_4_1',\n",
       "  'pixel_4_2',\n",
       "  'pixel_4_3',\n",
       "  'pixel_4_4',\n",
       "  'pixel_4_5',\n",
       "  'pixel_4_6',\n",
       "  'pixel_4_7',\n",
       "  'pixel_5_0',\n",
       "  'pixel_5_1',\n",
       "  'pixel_5_2',\n",
       "  'pixel_5_3',\n",
       "  'pixel_5_4',\n",
       "  'pixel_5_5',\n",
       "  'pixel_5_6',\n",
       "  'pixel_5_7',\n",
       "  'pixel_6_0',\n",
       "  'pixel_6_1',\n",
       "  'pixel_6_2',\n",
       "  'pixel_6_3',\n",
       "  'pixel_6_4',\n",
       "  'pixel_6_5',\n",
       "  'pixel_6_6',\n",
       "  'pixel_6_7',\n",
       "  'pixel_7_0',\n",
       "  'pixel_7_1',\n",
       "  'pixel_7_2',\n",
       "  'pixel_7_3',\n",
       "  'pixel_7_4',\n",
       "  'pixel_7_5',\n",
       "  'pixel_7_6',\n",
       "  'pixel_7_7'],\n",
       " 'target_names': array([0, 1, 2, 3, 4, 5, 6, 7, 8, 9]),\n",
       " 'images': array([[[ 0.,  0.,  5., ...,  1.,  0.,  0.],\n",
       "         [ 0.,  0., 13., ..., 15.,  5.,  0.],\n",
       "         [ 0.,  3., 15., ..., 11.,  8.,  0.],\n",
       "         ...,\n",
       "         [ 0.,  4., 11., ..., 12.,  7.,  0.],\n",
       "         [ 0.,  2., 14., ..., 12.,  0.,  0.],\n",
       "         [ 0.,  0.,  6., ...,  0.,  0.,  0.]],\n",
       " \n",
       "        [[ 0.,  0.,  0., ...,  5.,  0.,  0.],\n",
       "         [ 0.,  0.,  0., ...,  9.,  0.,  0.],\n",
       "         [ 0.,  0.,  3., ...,  6.,  0.,  0.],\n",
       "         ...,\n",
       "         [ 0.,  0.,  1., ...,  6.,  0.,  0.],\n",
       "         [ 0.,  0.,  1., ...,  6.,  0.,  0.],\n",
       "         [ 0.,  0.,  0., ..., 10.,  0.,  0.]],\n",
       " \n",
       "        [[ 0.,  0.,  0., ..., 12.,  0.,  0.],\n",
       "         [ 0.,  0.,  3., ..., 14.,  0.,  0.],\n",
       "         [ 0.,  0.,  8., ..., 16.,  0.,  0.],\n",
       "         ...,\n",
       "         [ 0.,  9., 16., ...,  0.,  0.,  0.],\n",
       "         [ 0.,  3., 13., ..., 11.,  5.,  0.],\n",
       "         [ 0.,  0.,  0., ..., 16.,  9.,  0.]],\n",
       " \n",
       "        ...,\n",
       " \n",
       "        [[ 0.,  0.,  1., ...,  1.,  0.,  0.],\n",
       "         [ 0.,  0., 13., ...,  2.,  1.,  0.],\n",
       "         [ 0.,  0., 16., ..., 16.,  5.,  0.],\n",
       "         ...,\n",
       "         [ 0.,  0., 16., ..., 15.,  0.,  0.],\n",
       "         [ 0.,  0., 15., ..., 16.,  0.,  0.],\n",
       "         [ 0.,  0.,  2., ...,  6.,  0.,  0.]],\n",
       " \n",
       "        [[ 0.,  0.,  2., ...,  0.,  0.,  0.],\n",
       "         [ 0.,  0., 14., ..., 15.,  1.,  0.],\n",
       "         [ 0.,  4., 16., ..., 16.,  7.,  0.],\n",
       "         ...,\n",
       "         [ 0.,  0.,  0., ..., 16.,  2.,  0.],\n",
       "         [ 0.,  0.,  4., ..., 16.,  2.,  0.],\n",
       "         [ 0.,  0.,  5., ..., 12.,  0.,  0.]],\n",
       " \n",
       "        [[ 0.,  0., 10., ...,  1.,  0.,  0.],\n",
       "         [ 0.,  2., 16., ...,  1.,  0.,  0.],\n",
       "         [ 0.,  0., 15., ..., 15.,  0.,  0.],\n",
       "         ...,\n",
       "         [ 0.,  4., 16., ..., 16.,  6.,  0.],\n",
       "         [ 0.,  8., 16., ..., 16.,  8.,  0.],\n",
       "         [ 0.,  1.,  8., ..., 12.,  1.,  0.]]]),\n",
       " 'DESCR': \".. _digits_dataset:\\n\\nOptical recognition of handwritten digits dataset\\n--------------------------------------------------\\n\\n**Data Set Characteristics:**\\n\\n    :Number of Instances: 5620\\n    :Number of Attributes: 64\\n    :Attribute Information: 8x8 image of integer pixels in the range 0..16.\\n    :Missing Attribute Values: None\\n    :Creator: E. Alpaydin (alpaydin '@' boun.edu.tr)\\n    :Date: July; 1998\\n\\nThis is a copy of the test set of the UCI ML hand-written digits datasets\\nhttps://archive.ics.uci.edu/ml/datasets/Optical+Recognition+of+Handwritten+Digits\\n\\nThe data set contains images of hand-written digits: 10 classes where\\neach class refers to a digit.\\n\\nPreprocessing programs made available by NIST were used to extract\\nnormalized bitmaps of handwritten digits from a preprinted form. From a\\ntotal of 43 people, 30 contributed to the training set and different 13\\nto the test set. 32x32 bitmaps are divided into nonoverlapping blocks of\\n4x4 and the number of on pixels are counted in each block. This generates\\nan input matrix of 8x8 where each element is an integer in the range\\n0..16. This reduces dimensionality and gives invariance to small\\ndistortions.\\n\\nFor info on NIST preprocessing routines, see M. D. Garris, J. L. Blue, G.\\nT. Candela, D. L. Dimmick, J. Geist, P. J. Grother, S. A. Janet, and C.\\nL. Wilson, NIST Form-Based Handprint Recognition System, NISTIR 5469,\\n1994.\\n\\n.. topic:: References\\n\\n  - C. Kaynak (1995) Methods of Combining Multiple Classifiers and Their\\n    Applications to Handwritten Digit Recognition, MSc Thesis, Institute of\\n    Graduate Studies in Science and Engineering, Bogazici University.\\n  - E. Alpaydin, C. Kaynak (1998) Cascading Classifiers, Kybernetika.\\n  - Ken Tang and Ponnuthurai N. Suganthan and Xi Yao and A. Kai Qin.\\n    Linear dimensionalityreduction using relevance weighted LDA. School of\\n    Electrical and Electronic Engineering Nanyang Technological University.\\n    2005.\\n  - Claudio Gentile. A New Approximate Maximal Margin Classification\\n    Algorithm. NIPS. 2000.\"}"
      ]
     },
     "execution_count": 2,
     "metadata": {},
     "output_type": "execute_result"
    }
   ],
   "source": [
    "digits"
   ]
  },
  {
   "cell_type": "code",
   "execution_count": 3,
   "metadata": {},
   "outputs": [
    {
     "name": "stdout",
     "output_type": "stream",
     "text": [
      "Число 0:\n"
     ]
    },
    {
     "data": {
      "image/png": "[encoded data removed]",
      "text/plain": [
       "<Figure size 432x288 with 1 Axes>"
      ]
     },
     "metadata": {
      "needs_background": "light"
     },
     "output_type": "display_data"
    },
    {
     "name": "stdout",
     "output_type": "stream",
     "text": [
      "Число 1:\n"
     ]
    },
    {
     "data": {
      "image/png": "[encoded data removed]",
      "text/plain": [
       "<Figure size 432x288 with 1 Axes>"
      ]
     },
     "metadata": {
      "needs_background": "light"
     },
     "output_type": "display_data"
    },
    {
     "name": "stdout",
     "output_type": "stream",
     "text": [
      "Число 2:\n"
     ]
    },
    {
     "data": {
      "image/png": "[encoded data removed]",
      "text/plain": [
       "<Figure size 432x288 with 1 Axes>"
      ]
     },
     "metadata": {
      "needs_background": "light"
     },
     "output_type": "display_data"
    },
    {
     "name": "stdout",
     "output_type": "stream",
     "text": [
      "Число 3:\n"
     ]
    },
    {
     "data": {
      "image/png": "[encoded data removed]",
      "text/plain": [
       "<Figure size 432x288 with 1 Axes>"
      ]
     },
     "metadata": {
      "needs_background": "light"
     },
     "output_type": "display_data"
    },
    {
     "name": "stdout",
     "output_type": "stream",
     "text": [
      "Число 4:\n"
     ]
    },
    {
     "data": {
      "image/png": "[encoded data removed]",
      "text/plain": [
       "<Figure size 432x288 with 1 Axes>"
      ]
     },
     "metadata": {
      "needs_background": "light"
     },
     "output_type": "display_data"
    },
    {
     "name": "stdout",
     "output_type": "stream",
     "text": [
      "Число 5:\n"
     ]
    },
    {
     "data": {
      "image/png": "[encoded data removed]",
      "text/plain": [
       "<Figure size 432x288 with 1 Axes>"
      ]
     },
     "metadata": {
      "needs_background": "light"
     },
     "output_type": "display_data"
    },
    {
     "name": "stdout",
     "output_type": "stream",
     "text": [
      "Число 6:\n"
     ]
    },
    {
     "data": {
      "image/png": "[encoded data removed]",
      "text/plain": [
       "<Figure size 432x288 with 1 Axes>"
      ]
     },
     "metadata": {
      "needs_background": "light"
     },
     "output_type": "display_data"
    },
    {
     "name": "stdout",
     "output_type": "stream",
     "text": [
      "Число 7:\n"
     ]
    },
    {
     "data": {
      "image/png": "[encoded data removed]",
      "text/plain": [
       "<Figure size 432x288 with 1 Axes>"
      ]
     },
     "metadata": {
      "needs_background": "light"
     },
     "output_type": "display_data"
    },
    {
     "name": "stdout",
     "output_type": "stream",
     "text": [
      "Число 8:\n"
     ]
    },
    {
     "data": {
      "image/png": "[encoded data removed]",
      "text/plain": [
       "<Figure size 432x288 with 1 Axes>"
      ]
     },
     "metadata": {
      "needs_background": "light"
     },
     "output_type": "display_data"
    },
    {
     "name": "stdout",
     "output_type": "stream",
     "text": [
      "Число 9:\n"
     ]
    },
    {
     "data": {
      "image/png": "[encoded data removed]",
      "text/plain": [
       "<Figure size 432x288 with 1 Axes>"
      ]
     },
     "metadata": {
      "needs_background": "light"
     },
     "output_type": "display_data"
    }
   ],
   "source": [
    "import matplotlib.pyplot as plt\n",
    "\n",
    "# примеры исходных данных\n",
    "for i in digits['target_names']:\n",
    "    for j in range(len(digits['target'])):\n",
    "        if digits['target'][j] == i:\n",
    "            print('Число '+ str(i) + ':')\n",
    "            plt.imshow(digits['images'][j], cmap='binary')\n",
    "            plt.show()\n",
    "            break"
   ]
  },
  {
   "cell_type": "code",
   "execution_count": 4,
   "metadata": {},
   "outputs": [
    {
     "name": "stdout",
     "output_type": "stream",
     "text": [
      "1347 450 1797\n"
     ]
    }
   ],
   "source": [
    "# shuffle and split\n",
    "X = np.array(digits['data'])\n",
    "Y = np.array(digits['target'])\n",
    "\n",
    "p = np.random.RandomState(seed=123).permutation(len(X))\n",
    "\n",
    "X = X[p]\n",
    "Y = Y[p]\n",
    "\n",
    "Xtrain = X[:int(len(X)*0.75)]\n",
    "Xtest = X[int(len(X)*0.75):]\n",
    "Ytrain = Y[:int(len(X)*0.75)]\n",
    "Ytest = Y[int(len(X)*0.75):]\n",
    "\n",
    "print(len(Xtrain), len(Xtest), len(X))"
   ]
  },
  {
   "cell_type": "code",
   "execution_count": 10,
   "metadata": {},
   "outputs": [],
   "source": [
    "class myKNN(object):\n",
    "    \n",
    "    def __init__(self):\n",
    "        pass\n",
    "    \n",
    "    def fit(self, X, Y):\n",
    "        self.Xtrain = X\n",
    "        self.Ytrain = Y\n",
    "    \n",
    "    def predict(self, X, k=5):\n",
    "\n",
    "        dists = self._l2Distance(X)\n",
    "        yPredict = np.zeros((X.shape[0],))\n",
    "        \n",
    "        for i in range(X.shape[0]):\n",
    "            yPredict[i] = np.argmax(np.bincount(self.Ytrain[np.argsort(dists[:,i])[:k]]))\n",
    "            \n",
    "        return yPredict\n",
    "        \n",
    "    def _l2Distance(self, X):\n",
    "        dists = np.sum(self.Xtrain**2, axis=1).reshape(self.Xtrain.shape[0],1) - 2*self.Xtrain@X.T + np.sum(X**2, axis=1).reshape(1,X.shape[0])\n",
    "        return dists"
   ]
  },
  {
   "cell_type": "code",
   "execution_count": 11,
   "metadata": {},
   "outputs": [],
   "source": [
    "# тестим\n",
    "model = myKNN()\n",
    "model.fit(Xtrain, Ytrain)\n",
    "\n",
    "labels = model.predict(Xtest)"
   ]
  },
  {
   "cell_type": "code",
   "execution_count": 12,
   "metadata": {},
   "outputs": [
    {
     "data": {
      "text/plain": [
       "0.9866666666666667"
      ]
     },
     "execution_count": 12,
     "metadata": {},
     "output_type": "execute_result"
    }
   ],
   "source": [
    "def accuracyScore(Ytrue, Ypred):\n",
    "    return np.sum(Ytrue==Ypred)/Ytrue.shape[0]\n",
    "\n",
    "# доля правильно классифицированных\n",
    "accuracyScore(Ytest, labels)"
   ]
  },
  {
   "cell_type": "code",
   "execution_count": 13,
   "metadata": {},
   "outputs": [
    {
     "data": {
      "text/plain": [
       "<AxesSubplot:>"
      ]
     },
     "execution_count": 13,
     "metadata": {},
     "output_type": "execute_result"
    },
    {
     "data": {
      "image/png": "[encoded data removed]",
      "text/plain": [
       "<Figure size 432x288 with 2 Axes>"
      ]
     },
     "metadata": {
      "needs_background": "light"
     },
     "output_type": "display_data"
    }
   ],
   "source": [
    "import seaborn as sns\n",
    "\n",
    "# визуализация матрицы растояний(часть матрицы)\n",
    "dists = model._l2Distance(Xtest)\n",
    "sns.heatmap(dists[:5,:5], annot=True)"
   ]
  },
  {
   "cell_type": "code",
   "execution_count": 14,
   "metadata": {},
   "outputs": [
    {
     "data": {
      "image/png": "[encoded data removed]",
      "text/plain": [
       "<Figure size 432x288 with 1 Axes>"
      ]
     },
     "metadata": {
      "needs_background": "light"
     },
     "output_type": "display_data"
    }
   ],
   "source": [
    "# график зависимости правильно классифицированных от числа соседей\n",
    "\n",
    "krange = np.arange(30) + 1\n",
    "scores = np.zeros((30,))\n",
    "\n",
    "for i in krange:\n",
    "    scores[i-1] = accuracyScore(Ytest, model.predict(Xtest, i))\n",
    "    \n",
    "fig = plt.figure()\n",
    "ax = fig.add_subplot(111)\n",
    "ax.plot(krange, scores)\n",
    "plt.show()"
   ]
  },
  {
   "cell_type": "code",
   "execution_count": 15,
   "metadata": {},
   "outputs": [],
   "source": [
    "def myCrossVal(X, Y, k, cv=5, trainPercent=0.9):\n",
    "    \n",
    "    scores = np.zeros((cv,))\n",
    "    \n",
    "    for i in range(cv):\n",
    "        p = np.random.permutation(len(X))\n",
    "        X = X[p]\n",
    "        Y = Y[p]\n",
    "\n",
    "        Xtrain = X[:int(len(X)*trainPercent)]\n",
    "        Xtest = X[int(len(X)*trainPercent):]\n",
    "        Ytrain = Y[:int(len(X)*trainPercent)]\n",
    "        Ytest = Y[int(len(X)*trainPercent):]\n",
    "        \n",
    "        model = myKNN()\n",
    "        \n",
    "        model.fit(Xtrain, Ytrain)\n",
    "        labels = model.predict(Xtest, k)\n",
    "        \n",
    "        scores[i] = accuracyScore(Ytest, labels)\n",
    "        \n",
    "    return scores.mean()"
   ]
  },
  {
   "cell_type": "code",
   "execution_count": 16,
   "metadata": {},
   "outputs": [
    {
     "data": {
      "image/png": "[encoded data removed]",
      "text/plain": [
       "<Figure size 432x288 with 1 Axes>"
      ]
     },
     "metadata": {
      "needs_background": "light"
     },
     "output_type": "display_data"
    }
   ],
   "source": [
    "krange = np.arange(10) + 1\n",
    "scores = np.zeros((10,))\n",
    "\n",
    "for i in krange:\n",
    "    scores[i-1] = myCrossVal(X,Y,i,9,0.75)\n",
    "    \n",
    "fig = plt.figure()\n",
    "ax = fig.add_subplot(111)\n",
    "ax.plot(krange, scores)\n",
    "plt.show()\n",
    "# вообще от запуска к запуску результаты разнятся, но я бы сказал что лучшее число k это 5 или 3, чаще 3"
   ]
  },
  {
   "cell_type": "markdown",
   "metadata": {},
   "source": [
    "# Softmax"
   ]
  },
  {
   "cell_type": "code",
   "execution_count": 17,
   "metadata": {},
   "outputs": [
    {
     "name": "stdout",
     "output_type": "stream",
     "text": [
      "1797 1797\n"
     ]
    }
   ],
   "source": [
    "# 3.1 train test val split\n",
    "def TTVsplit(X, Y, TrainLen=0.70, TestLen=0.2):\n",
    "    if TrainLen+TestLen >= 1:\n",
    "        return\n",
    "    TrainLen = int(len(X)*TrainLen)\n",
    "    TestLen = int(len(X)*TestLen)\n",
    "\n",
    "    Xtrain = X[:TrainLen]\n",
    "    Xtest = X[TrainLen:TrainLen+TestLen]\n",
    "    Xval = X[TrainLen+TestLen:]\n",
    "    Ytrain = Y[:TrainLen]\n",
    "    Ytest = Y[TrainLen:TrainLen+TestLen]\n",
    "    Yval = Y[TrainLen+TestLen:]\n",
    "    \n",
    "    return Xtrain, Xtest, Xval, Ytrain, Ytest, Yval\n",
    "\n",
    "Xtrain, Xtest, Xval, Ytrain, Ytest, Yval = TTVsplit(X.copy(),Y.copy())\n",
    "print(len(Xtrain)+len(Xtest)+len(Xval), len(X))"
   ]
  },
  {
   "cell_type": "code",
   "execution_count": 18,
   "metadata": {},
   "outputs": [
    {
     "data": {
      "image/png": "[encoded data removed]",
      "text/plain": [
       "<Figure size 432x288 with 1 Axes>"
      ]
     },
     "metadata": {
      "needs_background": "light"
     },
     "output_type": "display_data"
    },
    {
     "name": "stdout",
     "output_type": "stream",
     "text": [
      "(1257, 65) (181, 65) (359, 65)\n"
     ]
    }
   ],
   "source": [
    "# 3.2 3.3 Подготовка в соответствие с заданием \n",
    "meanImage = np.mean(Xtrain, axis=0)\n",
    "plt.imshow(meanImage.reshape((8,8,1)).astype('uint8'), cmap='binary') \n",
    "plt.show()\n",
    "\n",
    "Xtrain -= meanImage\n",
    "Xval -= meanImage\n",
    "Xtest -= meanImage\n",
    "\n",
    "# расширяем на 1, для коэф. b\n",
    "Xtrain = np.hstack([Xtrain, np.ones((Xtrain.shape[0], 1))])\n",
    "Xval = np.hstack([Xval, np.ones((Xval.shape[0], 1))])\n",
    "Xtest = np.hstack([Xtest, np.ones((Xtest.shape[0], 1))])\n",
    "\n",
    "print(Xtrain.shape, Xval.shape, Xtest.shape)"
   ]
  },
  {
   "cell_type": "code",
   "execution_count": 19,
   "metadata": {},
   "outputs": [],
   "source": [
    "def softmaxLoss(W, X, Y, reg):\n",
    "    loss = 0.0\n",
    "    \n",
    "    dW = np.zeros_like(W)\n",
    "\n",
    "    score = X@W\n",
    "    \n",
    "    prob = np.exp(score) / np.sum(np.exp(score), axis=1, keepdims=True)\n",
    "    loss = np.mean(-np.log(prob[np.arange(X.shape[0]),Y]))\n",
    "    loss += reg * np.sum(W * W)\n",
    "    \n",
    "    # (Si - dyi)Xj\n",
    "    prob[np.arange(X.shape[0]),Y]-=1\n",
    "    prob/=X.shape[0]\n",
    "    dW = X.T@prob + 2*reg*W\n",
    "    return loss, dW"
   ]
  },
  {
   "cell_type": "code",
   "execution_count": 20,
   "metadata": {},
   "outputs": [
    {
     "name": "stdout",
     "output_type": "stream",
     "text": [
      "loss: 2.301851\n",
      "sanity check: 2.302585\n"
     ]
    }
   ],
   "source": [
    "# в W будет находиться еще и b\n",
    "W = np.random.randn(65, 10) * 0.0001\n",
    "loss, grad = softmaxLoss(W, Xtrain, Ytrain, 0.0)\n",
    "\n",
    "# As a rough sanity check, our loss should be something close to -log(0.1).\n",
    "# ну если смотреть только порядки, то в целом сойдет\n",
    "print('loss: %f' % loss)\n",
    "print('sanity check: %f' % (-np.log(0.1)))"
   ]
  },
  {
   "cell_type": "code",
   "execution_count": 21,
   "metadata": {},
   "outputs": [
    {
     "name": "stdout",
     "output_type": "stream",
     "text": [
      "numerical: -0.012552 analytic: -0.012552, relative error: 6.303331e-09\n",
      "numerical: -0.437681 analytic: -0.437681, relative error: 1.498526e-10\n",
      "numerical: 0.313439 analytic: 0.313439, relative error: 2.061615e-10\n",
      "numerical: -0.318701 analytic: -0.318701, relative error: 1.287456e-10\n",
      "numerical: -0.419594 analytic: -0.419594, relative error: 1.792329e-10\n",
      "numerical: -0.037739 analytic: -0.037739, relative error: 2.330936e-10\n",
      "numerical: 0.196385 analytic: 0.196385, relative error: 3.738663e-10\n",
      "numerical: -0.291287 analytic: -0.291287, relative error: 1.833390e-10\n",
      "numerical: 0.011382 analytic: 0.011382, relative error: 4.482796e-10\n",
      "numerical: 0.194810 analytic: 0.194810, relative error: 2.409989e-10\n"
     ]
    }
   ],
   "source": [
    "# проверка градиента из методички(численные методы)\n",
    "from random import randrange\n",
    "\n",
    "def grad_check_sparse(f, x, analytic_grad, num_checks=10, h=1e-5):\n",
    "\n",
    "    for i in range(num_checks):\n",
    "        ix = tuple([randrange(m) for m in x.shape])\n",
    "\n",
    "        oldval = x[ix]\n",
    "        x[ix] = oldval + h # increment by h\n",
    "        fxph = f(x) # evaluate f(x + h)\n",
    "        x[ix] = oldval - h # increment by h\n",
    "        fxmh = f(x) # evaluate f(x - h)\n",
    "        x[ix] = oldval # reset\n",
    "\n",
    "        grad_numerical = (fxph - fxmh) / (2 * h)\n",
    "        grad_analytic = analytic_grad[ix]\n",
    "        rel_error = (abs(grad_numerical - grad_analytic) / (abs(grad_numerical) + abs(grad_analytic)))\n",
    "        print('numerical: %f analytic: %f, relative error: %e' %(grad_numerical, grad_analytic, rel_error))\n",
    "\n",
    "# кажется все верно, порядок ошибки довольно мал\n",
    "f = lambda w: softmaxLoss(w, Xtrain, Ytrain, 0.0)[0]\n",
    "grad_check_sparse(f, W, grad, 10)"
   ]
  },
  {
   "cell_type": "code",
   "execution_count": 22,
   "metadata": {},
   "outputs": [],
   "source": [
    "class softmaxClassifier(object):\n",
    "    \n",
    "    def __init__(self):\n",
    "        self.W = None\n",
    "        \n",
    "    def fit(self, X, Y, learningRate=1e-3, reg=1e-5, numIters=100, batchSize=200, verbose=True):\n",
    "        \n",
    "        numTrain, numFeatures = X.shape\n",
    "        numClasses = np.max(Y) + 1\n",
    "        \n",
    "        self.W = 0.001 * np.random.randn(numFeatures, numClasses)\n",
    "        \n",
    "        for i in range(numIters):\n",
    "            \n",
    "            index = np.random.choice(numTrain, batchSize)\n",
    "            Xbatch = X[index]\n",
    "            Ybatch = Y[index]\n",
    "            \n",
    "            loss, grad = softmaxLoss(self.W, Xbatch, Ybatch, reg)\n",
    "            \n",
    "            self.W -= learningRate*grad\n",
    "            if (verbose == True and i%10 == 0):\n",
    "                print('Iteration: '+str(i)+\" loss: \"+str(loss))\n",
    "                \n",
    "    def predict(self, X):\n",
    "        result = np.argmax(X@self.W, axis=1)\n",
    "        return result"
   ]
  },
  {
   "cell_type": "code",
   "execution_count": 23,
   "metadata": {},
   "outputs": [
    {
     "name": "stdout",
     "output_type": "stream",
     "text": [
      "Iteration: 0 loss: 2.3065678674043895\n",
      "Iteration: 10 loss: 1.8347858257122485\n",
      "Iteration: 20 loss: 1.5154101616124418\n",
      "Iteration: 30 loss: 1.320678575966513\n",
      "Iteration: 40 loss: 1.050180448346254\n",
      "Iteration: 50 loss: 0.968912149530531\n",
      "Iteration: 60 loss: 0.9498125056919858\n",
      "Iteration: 70 loss: 0.7680224278480796\n",
      "Iteration: 80 loss: 0.7177250986438297\n",
      "Iteration: 90 loss: 0.6490710418886456\n",
      "score:  0.9025069637883009\n"
     ]
    }
   ],
   "source": [
    "model = softmaxClassifier()\n",
    "model.fit(Xtrain, Ytrain)\n",
    "print('score: ', accuracyScore(Ytest,model.predict(Xtest)))"
   ]
  },
  {
   "cell_type": "code",
   "execution_count": 24,
   "metadata": {},
   "outputs": [],
   "source": [
    "# по заданию нужно подобрать лучшие параметры регуляризации и скорости обучения при помощи кросс валидации\n",
    "# я не совсем понял зачем нужен был сплит на train test val и как это должно работать в кросс валидации,\n",
    "# сделаю grid search с кросс валидацией думаю это подойдет\n",
    "\n",
    "def myGridSearch(X, Y, learningRate, reg, cv=5, trainPercent=0.8):\n",
    "    \n",
    "    scores = {}\n",
    "    cvScore = np.zeros((cv,))\n",
    "    \n",
    "    for rateParam in learningRate:\n",
    "        for regParam in reg:\n",
    "            for i in range(cv):\n",
    "                p = np.random.permutation(len(X))\n",
    "                X = X[p]\n",
    "                Y = Y[p]\n",
    "\n",
    "                Xtrain = X[:int(len(X)*trainPercent)]\n",
    "                Xtest = X[int(len(X)*trainPercent):]\n",
    "                Ytrain = Y[:int(len(X)*trainPercent)]\n",
    "                Ytest = Y[int(len(X)*trainPercent):]\n",
    "\n",
    "                model = softmaxClassifier()\n",
    "                model.fit(Xtrain, Ytrain, learningRate=rateParam,reg=regParam,verbose=False)\n",
    "                labels = model.predict(Xtest)\n",
    "                \n",
    "                cvScore[i] = accuracyScore(Ytest, labels)\n",
    "            scores[(rateParam, regParam)] = np.mean(cvScore)\n",
    "    \n",
    "    best = {i for i, v in scores.items() if v == max(scores.values())}\n",
    "    return scores, best"
   ]
  },
  {
   "cell_type": "code",
   "execution_count": 25,
   "metadata": {},
   "outputs": [
    {
     "data": {
      "text/plain": [
       "{(0.01, 0.0001), (0.01, 0.001)}"
      ]
     },
     "execution_count": 25,
     "metadata": {},
     "output_type": "execute_result"
    }
   ],
   "source": [
    "newX = np.vstack((Xtrain,Xval,Xtest))\n",
    "newY = np.hstack((Ytrain,Yval,Ytest))\n",
    "\n",
    "newX = np.hstack([newX, np.ones((newX.shape[0], 1))])\n",
    "\n",
    "result, best = myGridSearch(newX,newY,learningRate=[1e-2,1e-3,1e-4,1e-5],reg=[1e-2,1e-3,1e-4,1e-5])\n",
    "best"
   ]
  },
  {
   "cell_type": "code",
   "execution_count": 26,
   "metadata": {},
   "outputs": [
    {
     "data": {
      "text/plain": [
       "<AxesSubplot:>"
      ]
     },
     "execution_count": 26,
     "metadata": {},
     "output_type": "execute_result"
    },
    {
     "data": {
      "image/png": "[encoded data removed]",
      "text/plain": [
       "<Figure size 432x288 with 2 Axes>"
      ]
     },
     "metadata": {
      "needs_background": "light"
     },
     "output_type": "display_data"
    }
   ],
   "source": [
    "# недообучаемся при маленьком learning rate\n",
    "sns.heatmap(np.fromiter(result.values(), dtype='float32').reshape(4,4),annot=True, xticklabels=[1e-2,1e-3,1e-4,1e-5],yticklabels=[1e-2,1e-3,1e-4,1e-5])"
   ]
  },
  {
   "cell_type": "markdown",
   "metadata": {},
   "source": [
    "# Заключение\n",
    "В целом KNN работает лучше, но и у метода градиентного спуска весьма неплохие результаты, учитывая что это просто линейный классификатор"
   ]
  },
  {
   "cell_type": "code",
   "execution_count": 27,
   "metadata": {},
   "outputs": [
    {
     "data": {
      "text/plain": [
       "[3, 4]"
      ]
     },
     "execution_count": 27,
     "metadata": {},
     "output_type": "execute_result"
    }
   ],
   "source": [
    "x = np.zeros((10,10))\n",
    "[randrange(m) for m in x.shape]"
   ]
  },
  {
   "cell_type": "code",
   "execution_count": null,
   "metadata": {},
   "outputs": [],
   "source": []
  }
 ],
 "metadata": {
  "kernelspec": {
   "display_name": "Python 3",
   "language": "python",
   "name": "python3"
  },
  "language_info": {
   "codemirror_mode": {
    "name": "ipython",
    "version": 3
   },
   "file_extension": ".py",
   "mimetype": "text/x-python",
   "name": "python",
   "nbconvert_exporter": "python",
   "pygments_lexer": "ipython3",
   "version": "3.8.3"
  }
 },
 "nbformat": 4,
 "nbformat_minor": 4
}
